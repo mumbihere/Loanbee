{
 "cells": [
  {
   "cell_type": "markdown",
   "metadata": {},
   "source": [
    "## Preprocessing\n",
    "\n",
    "This file is meant to perform some initial pre-processing of the"
   ]
  },
  {
   "cell_type": "code",
   "execution_count": 89,
   "metadata": {
    "collapsed": true
   },
   "outputs": [],
   "source": [
    "#importations\n",
    "import numpy as np\n",
    "import pandas as pd\n",
    "import json\n",
    "import ast\n",
    "import csv\n",
    "\n",
    "#Declarations\n",
    "input_file = 'data/biodata.csv'\n",
    "output_file = 'data/bio_data_new.csv'"
   ]
  },
  {
   "cell_type": "markdown",
   "metadata": {},
   "source": [
    "Bio data comes in json-like format that is inconvinient. This code breaks it up into more usable fields. "
   ]
  },
  {
   "cell_type": "code",
   "execution_count": 90,
   "metadata": {
    "collapsed": false
   },
   "outputs": [],
   "source": [
    "''' Read data, make it  an iterable item that can be written easily into a csv'''\n",
    "#read file \n",
    "data = pd.read_csv(input_file)\n",
    "series = data['bio_data'].values\n",
    "series = list(series)\n",
    "\n",
    "#Transform the series to a list of lists for each person\n",
    "alldata=[]\n",
    "for item in series:\n",
    "    try:\n",
    "        x = ast.literal_eval(item)\n",
    "        mylist = [x['education']['level'],x['employment']['status'],x['dependants']['marital_status'],x['dependants']['no_of_dependants']]\n",
    "        alldata.append(mylist)\n",
    "    except: #handle nulls\n",
    "        alldata.append([None,None,None,None])\n",
    "\n",
    "#Write the data (list of lists) into a csv\n",
    "headers = ['education_level', 'employment_status', 'marital_status','no_of_dependants']\n",
    "with open(output_file, 'w') as csvfile:\n",
    "    writer = csv.writer(csvfile)\n",
    "    writer.writerow(headers)\n",
    "    writer.writerows(alldata)"
   ]
  },
  {
   "cell_type": "code",
   "execution_count": null,
   "metadata": {
    "collapsed": true
   },
   "outputs": [],
   "source": []
  }
 ],
 "metadata": {
  "anaconda-cloud": {},
  "kernelspec": {
   "display_name": "Python [Root]",
   "language": "python",
   "name": "Python [Root]"
  },
  "language_info": {
   "codemirror_mode": {
    "name": "ipython",
    "version": 3
   },
   "file_extension": ".py",
   "mimetype": "text/x-python",
   "name": "python",
   "nbconvert_exporter": "python",
   "pygments_lexer": "ipython3",
   "version": "3.5.2"
  }
 },
 "nbformat": 4,
 "nbformat_minor": 0
}
